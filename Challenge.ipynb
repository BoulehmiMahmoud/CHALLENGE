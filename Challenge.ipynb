{
 "cells": [
  {
   "cell_type": "code",
   "execution_count": 6,
   "id": "8e65c4d3",
   "metadata": {},
   "outputs": [
    {
     "name": "stdout",
     "output_type": "stream",
     "text": [
      "number 111\n",
      "true\n"
     ]
    }
   ],
   "source": [
    "def deg():\n",
    "    a=input(\"number \")\n",
    "    d=set(a)\n",
    "    if len(d)==1 :\n",
    "        print(\"true\")\n",
    "    else :\n",
    "        print(\"false\")\n",
    "deg()"
   ]
  },
  {
   "cell_type": "code",
   "execution_count": 25,
   "id": "4194915b",
   "metadata": {},
   "outputs": [
    {
     "name": "stdout",
     "output_type": "stream",
     "text": [
      "azerty\n",
      "a\n",
      "az\n",
      "aze\n",
      "azer\n",
      "azert\n",
      "azerty\n",
      "azert\n",
      "azer\n",
      "aze\n",
      "az\n",
      "a\n",
      "\n"
     ]
    }
   ],
   "source": [
    "def ds():\n",
    "    ch=input(\"\")\n",
    "    n=0\n",
    "    for i in ch:\n",
    "        n=n+1\n",
    "        print(ch[0:n:1])\n",
    "    a=len(ch)\n",
    "    for j in ch:\n",
    "        a=a-1\n",
    "        print(ch[0:a:1])\n",
    "ds()"
   ]
  },
  {
   "cell_type": "code",
   "execution_count": 24,
   "id": "4bda0c44",
   "metadata": {},
   "outputs": [
    {
     "name": "stdout",
     "output_type": "stream",
     "text": [
      "[3, 5]\n",
      "[2, 4]\n"
     ]
    }
   ],
   "source": [
    "a=[2,3,5,4]\n",
    "b=[]\n",
    "c=[]\n",
    "for i in a:\n",
    "    if i%2==0 :\n",
    "        c.append(i)\n",
    "    else :\n",
    "        b.append(i)\n",
    "print(b)\n",
    "print(c)"
   ]
  },
  {
   "cell_type": "code",
   "execution_count": 13,
   "id": "f0bdaa3a",
   "metadata": {},
   "outputs": [
    {
     "data": {
      "text/plain": [
       "{'d': 2, 'f': 3, 'a': 2}"
      ]
     },
     "execution_count": 13,
     "metadata": {},
     "output_type": "execute_result"
    }
   ],
   "source": [
    "a=[\"a\",\"f\",\"d\",\"a\",\"d\",\"f\",\"f\"]\n",
    "def ind(list1):\n",
    "    dict1={}\n",
    "    set1=set(list1)\n",
    "    for s in set1:\n",
    "        x=0\n",
    "        for l in list1:\n",
    "            if l==s :\n",
    "                x=x+1\n",
    "                dict1[l]=x\n",
    "    return dict1\n",
    "ind(a)"
   ]
  }
 ],
 "metadata": {
  "kernelspec": {
   "display_name": "Python 3",
   "language": "python",
   "name": "python3"
  },
  "language_info": {
   "codemirror_mode": {
    "name": "ipython",
    "version": 3
   },
   "file_extension": ".py",
   "mimetype": "text/x-python",
   "name": "python",
   "nbconvert_exporter": "python",
   "pygments_lexer": "ipython3",
   "version": "3.8.8"
  }
 },
 "nbformat": 4,
 "nbformat_minor": 5
}
